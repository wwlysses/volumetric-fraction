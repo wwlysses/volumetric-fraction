{
 "cells": [
  {
   "cell_type": "code",
   "execution_count": 12,
   "metadata": {
    "collapsed": true
   },
   "outputs": [],
   "source": [
    "import IPython\n",
    "\n",
    "from IPython.display import HTML\n",
    "from IPython.display import Markdown\n",
    "from IPython.display import display\n",
    "import numpy as np"
   ]
  },
  {
   "cell_type": "markdown",
   "metadata": {
    "slideshow": {
     "slide_type": "slide"
    }
   },
   "source": [
    "## The theoretical density of MZG ($Mn_{0.5}Zn_{0.5}Fe_{1.9}Gd_{0.1}O_{4}$)\n",
    "\n",
    "The theoretical density of MZG ($Mn_{0.5}Zn_{0.5}Fe_{1.9}Gd_{0.1}O_{4}$) was calculated taking the\n",
    "molecular weight of MZG to be 245.84 $g$. Spinel ferrites\n",
    "have eight formula units per unit cell. Therefore, the molecular\n",
    "weight of one cell is $8 \\times (245.84)$ = 1966.68 $g$. \n",
    "\n",
    "The volume of a cube of side, length $a$ is $a^3$. The volume of a cell is therefore\n",
    "$N \\times a^{3}$ where $N$ is Avogadro’s number. The unit cell edge $a_0$ ($\\mathring{A}$) of \n",
    "MZG = 8.3366 $\\mathring{A}$ therefore $a^{3}$ = 579.38 $\\mathring{A}^{3}$. As 1 $\\mathring{A}^3$ = $10^{-24}$ $cm^{3}$,\n",
    "$N \\times a^{3}$ is therefore: [$6,023\\cdot10^{23}][579,38\\cdot10^{-24}] = 348,96$ $cm^{3}$\n",
    "\n",
    "\n",
    "Density = mass/volume = 1966.68/348.96 = 5.6358 $g/cm^{3}$, that is, $\\rho_{MZG}=5.6358$ $g/cm^{3}$ [[1](https://www4.dcu.ie/sites/default/files/apt/Ceramic%20CoFe_Sintering_2008.pdf)]"
   ]
  },
  {
   "cell_type": "markdown",
   "metadata": {
    "slideshow": {
     "slide_type": "slide"
    }
   },
   "source": [
    "## Relation between volume fraction or mass of nanoparticles\n",
    "\n",
    "Let us assume that you wish to prepare a volume ($V_{f}$) in ml of some nanofluid such MZG nanoparticles with base fluid as kerosene. \n",
    "We know that the density ($\\rho$) of MZG is 5.6358 $g/cm^{3}$ and density of kerosene is 0,8190 $g/cm^3$.               \n",
    "\n",
    "Therefore, volume concentration ($\\phi$ in $\\%$), is given by: \n",
    "\n",
    "$$\\phi=\\left[ \\frac{\\frac{W_{np}}{\\rho_{np}}}{(\\frac{W_{np}}{\\rho_{np}}+\\frac{W_{bf}}{\\rho_{bf}})} \\right]\\times 100$$\n",
    "\n",
    "Therefore if you fix $\\phi$ as 0.5%, then, $W_{MZG}$ = 0.63 g approximately\n",
    "\n",
    "\n",
    "Hence $W_{MZG}$ = 0.63 g is to be mixed in the base fluid to obtain 100 ml CuO/water nanofluid with 0.1% volume fraction."
   ]
  },
  {
   "cell_type": "code",
   "execution_count": 8,
   "metadata": {
    "collapsed": true
   },
   "outputs": [],
   "source": [
    "def volume_fraction(wnp,pnp,wbf,pbf):\n",
    "    r=(wnp/pnp)/(wnp/pnp + wbf/pbf)\n",
    "    return r"
   ]
  },
  {
   "cell_type": "code",
   "execution_count": 39,
   "metadata": {},
   "outputs": [
    {
     "data": {
      "text/plain": [
       "0.5068917444892294"
      ]
     },
     "execution_count": 39,
     "metadata": {},
     "output_type": "execute_result"
    }
   ],
   "source": [
    "phi=[]\n",
    "a=[0.001*0.819,0.01*0.819,0.045*0.819,0.1*0.819,1*0.819]\n",
    "b=0.819\n",
    "#nwbf=b*a\n",
    "phi=[volume_fraction(0.2607,5.6358,i,0.819) for i in a ]\n",
    "phi[2]\n",
    "#nwbf"
   ]
  }
 ],
 "metadata": {
  "celltoolbar": "Slideshow",
  "kernelspec": {
   "display_name": "Python 3",
   "language": "python",
   "name": "python3"
  },
  "language_info": {
   "codemirror_mode": {
    "name": "ipython",
    "version": 3
   },
   "file_extension": ".py",
   "mimetype": "text/x-python",
   "name": "python",
   "nbconvert_exporter": "python",
   "pygments_lexer": "ipython3",
   "version": "3.6.1"
  }
 },
 "nbformat": 4,
 "nbformat_minor": 2
}
